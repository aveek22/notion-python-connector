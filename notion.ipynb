{
 "cells": [
  {
   "cell_type": "code",
   "execution_count": 62,
   "metadata": {},
   "outputs": [],
   "source": [
    "import requests\n",
    "import secret\n",
    "import pandas as pd"
   ]
  },
  {
   "cell_type": "code",
   "execution_count": 5,
   "metadata": {},
   "outputs": [],
   "source": [
    "secret_key = secret.KEY\n",
    "database_id = '60777f42f5b349b1ae619c3ced68d3da'"
   ]
  },
  {
   "cell_type": "code",
   "execution_count": 38,
   "metadata": {},
   "outputs": [],
   "source": [
    "url = f'https://api.notion.com/v1/databases/{database_id}/query'\n",
    "header = {\"Authorization\": secret_key, \"Notion-Version\":\"2021-05-13\"}\n",
    "filter = {\"property\": \"IsActive\", \"checkbox\": {\"equals\" : True}}\n",
    "# filter = {\"property\": \"Author\", \"text\" : {\"contains\" : \"William\"}}"
   ]
  },
  {
   "cell_type": "code",
   "execution_count": 39,
   "metadata": {},
   "outputs": [
    {
     "data": {
      "text/plain": [
       "<Response [200]>"
      ]
     },
     "execution_count": 39,
     "metadata": {},
     "output_type": "execute_result"
    }
   ],
   "source": [
    "response = requests.post(url, headers=header, data=filter)\n",
    "response"
   ]
  },
  {
   "cell_type": "code",
   "execution_count": 68,
   "metadata": {},
   "outputs": [
    {
     "data": {
      "text/plain": [
       "True"
      ]
     },
     "execution_count": 68,
     "metadata": {},
     "output_type": "execute_result"
    }
   ],
   "source": [
    "response.json()['results'][0]['properties'][\"IsActive\"][\"checkbox\"]"
   ]
  },
  {
   "cell_type": "code",
   "execution_count": 65,
   "metadata": {},
   "outputs": [
    {
     "data": {
      "text/plain": [
       "4"
      ]
     },
     "execution_count": 65,
     "metadata": {},
     "output_type": "execute_result"
    }
   ],
   "source": [
    "book_title = response.json()['results'][0]['properties'][\"Book\"][\"title\"][0][\"plain_text\"]\n",
    "book_author = response.json()['results'][0]['properties'][\"Author\"][\"rich_text\"][0][\"plain_text\"]\n",
    "num_copies_sold = response.json()['results'][0]['properties'][\"No. of Copies Sold\"][\"number\"]\n",
    "is_active = response.json()['results'][0]['properties'][\"IsActive\"][\"checkbox\"]"
   ]
  },
  {
   "cell_type": "code",
   "execution_count": 72,
   "metadata": {},
   "outputs": [
    {
     "data": {
      "text/plain": [
       "{'object': 'page',\n",
       " 'id': 'ab10a95e-e9ac-45ff-aa14-57f166cf6f33',\n",
       " 'created_time': '2021-11-26T21:53:00.000Z',\n",
       " 'last_edited_time': '2021-11-26T21:53:00.000Z',\n",
       " 'cover': None,\n",
       " 'icon': None,\n",
       " 'parent': {'type': 'database_id',\n",
       "  'database_id': '60777f42-f5b3-49b1-ae61-9c3ced68d3da'},\n",
       " 'archived': False,\n",
       " 'properties': {'Author': {'id': ']tli', 'type': 'rich_text', 'rich_text': []},\n",
       "  'IsActive': {'id': '`bT`', 'type': 'checkbox', 'checkbox': False},\n",
       "  'Book': {'id': 'title', 'type': 'title', 'title': []}},\n",
       " 'url': 'https://www.notion.so/ab10a95ee9ac45ffaa1457f166cf6f33'}"
      ]
     },
     "execution_count": 72,
     "metadata": {},
     "output_type": "execute_result"
    }
   ],
   "source": [
    "response.json()['results'][2]"
   ]
  },
  {
   "cell_type": "code",
   "execution_count": 89,
   "metadata": {},
   "outputs": [
    {
     "data": {
      "text/html": [
       "<div>\n",
       "<style scoped>\n",
       "    .dataframe tbody tr th:only-of-type {\n",
       "        vertical-align: middle;\n",
       "    }\n",
       "\n",
       "    .dataframe tbody tr th {\n",
       "        vertical-align: top;\n",
       "    }\n",
       "\n",
       "    .dataframe thead th {\n",
       "        text-align: right;\n",
       "    }\n",
       "</style>\n",
       "<table border=\"1\" class=\"dataframe\">\n",
       "  <thead>\n",
       "    <tr style=\"text-align: right;\">\n",
       "      <th></th>\n",
       "      <th>book_title</th>\n",
       "      <th>book_author</th>\n",
       "      <th>num_copies_sold</th>\n",
       "    </tr>\n",
       "  </thead>\n",
       "  <tbody>\n",
       "  </tbody>\n",
       "</table>\n",
       "</div>"
      ],
      "text/plain": [
       "Empty DataFrame\n",
       "Columns: [book_title, book_author, num_copies_sold]\n",
       "Index: []"
      ]
     },
     "execution_count": 89,
     "metadata": {},
     "output_type": "execute_result"
    }
   ],
   "source": []
  },
  {
   "cell_type": "code",
   "execution_count": 96,
   "metadata": {},
   "outputs": [
    {
     "name": "stdout",
     "output_type": "stream",
     "text": [
      "All’s Well that Ends well William Shakespeare 3000 True\n",
      "Androcles and the Lion George Bernard Shaw 2000 True\n"
     ]
    },
    {
     "data": {
      "text/html": [
       "<div>\n",
       "<style scoped>\n",
       "    .dataframe tbody tr th:only-of-type {\n",
       "        vertical-align: middle;\n",
       "    }\n",
       "\n",
       "    .dataframe tbody tr th {\n",
       "        vertical-align: top;\n",
       "    }\n",
       "\n",
       "    .dataframe thead th {\n",
       "        text-align: right;\n",
       "    }\n",
       "</style>\n",
       "<table border=\"1\" class=\"dataframe\">\n",
       "  <thead>\n",
       "    <tr style=\"text-align: right;\">\n",
       "      <th></th>\n",
       "      <th>0</th>\n",
       "      <th>1</th>\n",
       "      <th>2</th>\n",
       "      <th>book_author</th>\n",
       "      <th>book_title</th>\n",
       "      <th>num_copies_sold</th>\n",
       "    </tr>\n",
       "  </thead>\n",
       "  <tbody>\n",
       "    <tr>\n",
       "      <th>0</th>\n",
       "      <td>All’s Well that Ends well</td>\n",
       "      <td>William Shakespeare</td>\n",
       "      <td>3000.0</td>\n",
       "      <td>NaN</td>\n",
       "      <td>NaN</td>\n",
       "      <td>NaN</td>\n",
       "    </tr>\n",
       "    <tr>\n",
       "      <th>1</th>\n",
       "      <td>Androcles and the Lion</td>\n",
       "      <td>George Bernard Shaw</td>\n",
       "      <td>2000.0</td>\n",
       "      <td>NaN</td>\n",
       "      <td>NaN</td>\n",
       "      <td>NaN</td>\n",
       "    </tr>\n",
       "  </tbody>\n",
       "</table>\n",
       "</div>"
      ],
      "text/plain": [
       "                           0                    1       2 book_author  \\\n",
       "0  All’s Well that Ends well  William Shakespeare  3000.0         NaN   \n",
       "1     Androcles and the Lion  George Bernard Shaw  2000.0         NaN   \n",
       "\n",
       "  book_title num_copies_sold  \n",
       "0        NaN             NaN  \n",
       "1        NaN             NaN  "
      ]
     },
     "execution_count": 96,
     "metadata": {},
     "output_type": "execute_result"
    }
   ],
   "source": [
    "num_records = len(response.json()['results']) - 1\n",
    "data =[]\n",
    "\n",
    "for i in range(0,num_records):\n",
    "    book_title = response.json()['results'][i]['properties'][\"Book\"][\"title\"][0][\"plain_text\"]\n",
    "    book_author = response.json()['results'][i]['properties'][\"Author\"][\"rich_text\"][0][\"plain_text\"]\n",
    "    num_copies_sold = response.json()['results'][i]['properties'][\"No. of Copies Sold\"][\"number\"]\n",
    "    is_active = response.json()['results'][i]['properties'][\"IsActive\"][\"checkbox\"]\n",
    "\n",
    "    print(book_title + ' ' + book_author + ' ' + str(num_copies_sold) + ' ' + str(is_active))\n",
    "\n",
    "    data.append([book_title, book_author, num_copies_sold])\n",
    "    \n"
   ]
  },
  {
   "cell_type": "code",
   "execution_count": 98,
   "metadata": {},
   "outputs": [
    {
     "data": {
      "text/html": [
       "<div>\n",
       "<style scoped>\n",
       "    .dataframe tbody tr th:only-of-type {\n",
       "        vertical-align: middle;\n",
       "    }\n",
       "\n",
       "    .dataframe tbody tr th {\n",
       "        vertical-align: top;\n",
       "    }\n",
       "\n",
       "    .dataframe thead th {\n",
       "        text-align: right;\n",
       "    }\n",
       "</style>\n",
       "<table border=\"1\" class=\"dataframe\">\n",
       "  <thead>\n",
       "    <tr style=\"text-align: right;\">\n",
       "      <th></th>\n",
       "      <th>book_title</th>\n",
       "      <th>book_author</th>\n",
       "      <th>num_copies_sold</th>\n",
       "    </tr>\n",
       "  </thead>\n",
       "  <tbody>\n",
       "    <tr>\n",
       "      <th>0</th>\n",
       "      <td>All’s Well that Ends well</td>\n",
       "      <td>William Shakespeare</td>\n",
       "      <td>3000</td>\n",
       "    </tr>\n",
       "    <tr>\n",
       "      <th>1</th>\n",
       "      <td>Androcles and the Lion</td>\n",
       "      <td>George Bernard Shaw</td>\n",
       "      <td>2000</td>\n",
       "    </tr>\n",
       "  </tbody>\n",
       "</table>\n",
       "</div>"
      ],
      "text/plain": [
       "                  book_title          book_author  num_copies_sold\n",
       "0  All’s Well that Ends well  William Shakespeare             3000\n",
       "1     Androcles and the Lion  George Bernard Shaw             2000"
      ]
     },
     "execution_count": 98,
     "metadata": {},
     "output_type": "execute_result"
    }
   ],
   "source": [
    "column_names = [\"book_title\", \"book_author\", \"num_copies_sold\"]\n",
    "df = pd.DataFrame(data, columns=column_names)\n",
    "df"
   ]
  }
 ],
 "metadata": {
  "interpreter": {
   "hash": "72f85c51e99ade01ea8d5f54aea1b889b80da7738d0287988b99f24af9873135"
  },
  "kernelspec": {
   "display_name": "Python 3.9.9 64-bit (windows store)",
   "language": "python",
   "name": "python3"
  },
  "language_info": {
   "codemirror_mode": {
    "name": "ipython",
    "version": 3
   },
   "file_extension": ".py",
   "mimetype": "text/x-python",
   "name": "python",
   "nbconvert_exporter": "python",
   "pygments_lexer": "ipython3",
   "version": "3.9.9"
  },
  "orig_nbformat": 4
 },
 "nbformat": 4,
 "nbformat_minor": 2
}
